{
 "cells": [
  {
   "cell_type": "markdown",
   "metadata": {},
   "source": [
    "# Importation des librairies et démarrage de la session"
   ]
  },
  {
   "cell_type": "code",
   "execution_count": 6,
   "metadata": {},
   "outputs": [],
   "source": [
    "from pyspark.sql import SparkSession\n",
    "import pyspark\n",
    "import pyspark.sql.functions as F\n",
    "spark = SparkSession.builder.getOrCreate()"
   ]
  },
  {
   "cell_type": "markdown",
   "metadata": {},
   "source": [
    "# Importation des données et formatage des colonnes"
   ]
  },
  {
   "cell_type": "code",
   "execution_count": 62,
   "metadata": {},
   "outputs": [],
   "source": [
    "#Importation des deux datasets en csv et suppression des colonnes \"month\" et \"year\" de trips car doublon d'une autre colonne\n",
    "df_trips = spark.read.csv(\"data/Austin bikes/austin_bikeshare_trips.csv\", header=True, inferSchema=True).drop(\"month\",\"year\")\n",
    "df_stations = spark.read.csv(\"data/Austin bikes/austin_bikeshare_stations.csv\", header=True, inferSchema=True)\n",
    "\n",
    "#Changement de types de données (pour la plupart, passer de double à integer)\n",
    "df_trips = df_trips.withColumn(\"bikeid\", df_trips[\"bikeid\"].cast(\"integer\"))\\\n",
    "    .withColumn(\"trip_id\", df_trips[\"trip_id\"].cast(\"integer\"))\\\n",
    "    .withColumn(\"start_station_id\", df_trips[\"start_station_id\"].cast(\"integer\"))\\\n",
    "    .withColumn(\"end_station_id\", df_trips[\"end_station_id\"].cast(\"integer\"))\\\n",
    "    .withColumn(\"start_datetime\", F.to_timestamp(df_trips[\"start_time\"])).drop(\"start_time\")\n",
    "\n",
    "#Création d'une colonne \"date\" en plus de la colonne \"datetime\" pour avoir les deux\n",
    "df_trips = df_trips.withColumn(\"date\", F.to_date(df_trips[\"start_datetime\"]))"
   ]
  },
  {
   "cell_type": "code",
   "execution_count": 63,
   "metadata": {},
   "outputs": [
    {
     "name": "stdout",
     "output_type": "stream",
     "text": [
      "+------+-------------+----------------+--------------+--------------------+----------------+--------------------+--------------------+----------+-------------------+----------+\n",
      "|bikeid|checkout_time|duration_minutes|end_station_id|    end_station_name|start_station_id|  start_station_name|     subscriber_type|   trip_id|     start_datetime|      date|\n",
      "+------+-------------+----------------+--------------+--------------------+----------------+--------------------+--------------------+----------+-------------------+----------+\n",
      "|     8|     19:12:00|              41|          2565|Trinity & 6th Street|            2536|    Waller & 6th St.|             Walk Up|1310148290|2015-03-19 19:12:00|2015-03-19|\n",
      "|   141|      2:06:04|               6|          2570|South Congress & ...|            2494|      2nd & Congress|            Local365|  12617682|2016-10-30 02:06:04|2016-10-30|\n",
      "|   578|     16:28:27|              13|          2498|Convention Center...|            2538|Bullock Museum @ ...|            Local365|   9075366|2016-03-11 16:28:27|2016-03-11|\n",
      "|   555|     15:12:00|              80|          2712|Toomey Rd @ South...|            2497|Capitol Station /...|24-Hour Kiosk (Au...|1310384706|2014-11-23 15:12:00|2014-11-23|\n",
      "|    86|     15:39:13|              25|          3377|MoPac Pedestrian ...|            2707|Rainey St @ Cummings|             Walk Up|  14468597|2017-04-16 15:39:13|2017-04-16|\n",
      "+------+-------------+----------------+--------------+--------------------+----------------+--------------------+--------------------+----------+-------------------+----------+\n",
      "only showing top 5 rows\n",
      "\n"
     ]
    }
   ],
   "source": [
    "df_trips.show(5)"
   ]
  },
  {
   "cell_type": "code",
   "execution_count": 64,
   "metadata": {},
   "outputs": [
    {
     "name": "stdout",
     "output_type": "stream",
     "text": [
      "root\n",
      " |-- bikeid: integer (nullable = true)\n",
      " |-- checkout_time: string (nullable = true)\n",
      " |-- duration_minutes: integer (nullable = true)\n",
      " |-- end_station_id: integer (nullable = true)\n",
      " |-- end_station_name: string (nullable = true)\n",
      " |-- start_station_id: integer (nullable = true)\n",
      " |-- start_station_name: string (nullable = true)\n",
      " |-- subscriber_type: string (nullable = true)\n",
      " |-- trip_id: integer (nullable = true)\n",
      " |-- start_datetime: timestamp (nullable = true)\n",
      " |-- date: date (nullable = true)\n",
      "\n"
     ]
    }
   ],
   "source": [
    "df_trips.printSchema()"
   ]
  },
  {
   "cell_type": "markdown",
   "metadata": {},
   "source": [
    "# Traitements (Group by)"
   ]
  },
  {
   "cell_type": "code",
   "execution_count": 79,
   "metadata": {},
   "outputs": [
    {
     "name": "stdout",
     "output_type": "stream",
     "text": [
      "+----------+---------------------+\n",
      "|      date|avg(duration_minutes)|\n",
      "+----------+---------------------+\n",
      "|2014-09-26|   23.970178926441353|\n",
      "|2016-03-01|   24.844282238442823|\n",
      "|2015-05-19|   20.847031963470318|\n",
      "|2014-11-12|   13.945121951219512|\n",
      "|2015-03-09|   138.27272727272728|\n",
      "+----------+---------------------+\n",
      "only showing top 5 rows\n",
      "\n"
     ]
    }
   ],
   "source": [
    "#Groupement en faisant la moyenne de la durée des trajets par jour\n",
    "df_avg_duration_per_day = df_trips.groupBy(\"date\").mean(\"duration_minutes\")\n",
    "df_avg_duration_per_day.show(5)"
   ]
  },
  {
   "cell_type": "code",
   "execution_count": 80,
   "metadata": {},
   "outputs": [
    {
     "name": "stdout",
     "output_type": "stream",
     "text": [
      "+----------+--------------------+-----+\n",
      "|      date|  start_station_name|count|\n",
      "+----------+--------------------+-----+\n",
      "|2016-08-30|East 11th St. & S...|    9|\n",
      "|2016-06-23|San Jacinto & 8th...|    8|\n",
      "|2014-07-29|         5th & Bowie|   29|\n",
      "|2017-02-23|UT West Mall @ Gu...|    8|\n",
      "|2017-07-16|City Hall / Lavac...|   23|\n",
      "+----------+--------------------+-----+\n",
      "only showing top 5 rows\n",
      "\n"
     ]
    }
   ],
   "source": [
    "#Groupement en comptant le nombre de trajets par jour\n",
    "df_trips_per_start_station = df_trips.groupBy(\"date\",\"start_station_name\").count()\n",
    "df_trips_per_start_station.show(5)"
   ]
  },
  {
   "cell_type": "code",
   "execution_count": 81,
   "metadata": {},
   "outputs": [
    {
     "name": "stdout",
     "output_type": "stream",
     "text": [
      "+----------+--------------------+-----+\n",
      "|      date|    end_station_name|count|\n",
      "+----------+--------------------+-----+\n",
      "|2017-02-01|Convention Center...|   11|\n",
      "|2014-05-24|South Congress & ...|   42|\n",
      "|2015-04-03|South Congress & ...|   12|\n",
      "|2015-03-11|Rainey St @ Cummings|   19|\n",
      "|2015-04-01|Republic Square @...|    7|\n",
      "+----------+--------------------+-----+\n",
      "only showing top 5 rows\n",
      "\n"
     ]
    }
   ],
   "source": [
    "#Groupement en comptant le nombre de trajets par jour\n",
    "df_trips_per_end_station = df_trips.groupBy(\"date\",\"end_station_name\").count()\n",
    "df_trips_per_end_station.show(5)"
   ]
  },
  {
   "cell_type": "markdown",
   "metadata": {},
   "source": [
    "# Output"
   ]
  },
  {
   "cell_type": "code",
   "execution_count": 86,
   "metadata": {
    "scrolled": true
   },
   "outputs": [],
   "source": [
    "#On exporte les datasets modifiés et créés en csv\n",
    "df_trips.repartition(1).write.mode('overwrite').csv('data/Output/df_trips.csv')\n",
    "\n",
    "df_avg_duration_per_day.repartition(1).write.mode('overwrite').csv('data/Output/df_avg_duration_per_day.csv')\n",
    "\n",
    "df_trips_per_start_station.repartition(1).write.mode('overwrite').csv('data/Output/df_trips_per_start_station.csv')\n",
    "\n",
    "df_trips_per_end_station.repartition(1).write.mode('overwrite').csv('data/Output/df_trips_per_end_station.csv')\n",
    "\n",
    "df_stations.repartition(1).write.mode('overwrite').csv('data/Output/df_stations.csv')"
   ]
  },
  {
   "cell_type": "code",
   "execution_count": null,
   "metadata": {},
   "outputs": [],
   "source": []
  }
 ],
 "metadata": {
  "kernelspec": {
   "display_name": "Python 3",
   "language": "python",
   "name": "python3"
  },
  "language_info": {
   "codemirror_mode": {
    "name": "ipython",
    "version": 3
   },
   "file_extension": ".py",
   "mimetype": "text/x-python",
   "name": "python",
   "nbconvert_exporter": "python",
   "pygments_lexer": "ipython3",
   "version": "3.8.6"
  }
 },
 "nbformat": 4,
 "nbformat_minor": 2
}
